{
 "cells": [
  {
   "cell_type": "markdown",
   "metadata": {},
   "source": [
    "# Algoritmo Geral\n",
    "\n",
    "1. Alimentar a rede com os sinais de entrada (*input signals*)\n",
    "2. Os dados devem fluir de camada para camada até que a saída seja obtida na *output layer*\n",
    "3. O erro escalar deve ser calculado a partir da saída para uma função de custo (*loss function*)\n",
    "4. Os parâmetros devem ser ajustados a partir da derivada do erro\n",
    "\n",
    "# Requisições\n",
    "- As derivadas devem ser calculadas independente da arquitetura da rede, das funções de ativação e da função de custo\n",
    "- Cada camada deve ser implementada separadamente\n",
    "- Cada camada deve ter **pelo menos** dados de entrada e saída\n",
    "- A saída de uma camada é a entrada da próxima  (*feedforward*)\n",
    "- O erro ($Y - \\hat{Y}$) dever ser **minimizado** ajustando os parâmetros da rede\n",
    "- A aproximação de segundo grau da série de Taylor deve ser utilizada para minimizar o erro"
   ]
  },
  {
   "cell_type": "markdown",
   "metadata": {},
   "source": [
    "### Propagação direta\n",
    "O valor da saída de cada neurônio pode ser calculado por:\n",
    "\n",
    "$$y_j = b_j + \\sum_i x_i w_{ij}$$\n",
    "\n",
    "Usando matrizes:\n",
    "\n",
    "$$X  = \\begin{Bmatrix}\n",
    " x_1 & \\cdots,  & x_i \n",
    "\\end{Bmatrix} $$\n",
    "\n",
    "$$ B  = \\begin{Bmatrix}\n",
    " b_1 & \\cdots,  & b_j \n",
    "\\end{Bmatrix} $$\n",
    "\n",
    "$$ \\begin{bmatrix}\n",
    "w_{11} & \\cdots & w_{1j} \\\\ \n",
    "\\vdots & \\ddots & \\vdots \\\\\n",
    "w_{i1} & \\cdots & w_{ij}\n",
    "\\end{bmatrix} $$\n",
    "\n",
    "$$ Y = XW + B$$\n",
    "\n"
   ]
  },
  {
   "cell_type": "markdown",
   "metadata": {},
   "source": [
    "### Propagação retroativa\n",
    "Dada a **derivada do erro em relação à saída** $\\frac{\\partial E}{\\partial Y}$, uma camada deve ser capaz de fornecer a **derivada do erro em relação à entrada** $\\frac{\\partial E}{\\partial X}$\n",
    "\n",
    "\n",
    "$$ \\frac{\\partial E}{\\partial X} \\leftarrow Layer \\leftarrow \\frac{\\partial E}{\\partial Y} $$\n",
    "\n",
    "$$\\frac{\\partial E}{\\partial X}  = \\begin{Bmatrix}\n",
    " \\frac{\\partial E}{\\partial X_1}, & \\cdots,  & \\frac{\\partial E}{\\partial X_i} \n",
    "\\end{Bmatrix} $$\n",
    "\n",
    "$$\\frac{\\partial E}{\\partial Y}  = \\begin{Bmatrix}\n",
    " \\frac{\\partial E}{\\partial Y_1}, & \\cdots,  & \\frac{\\partial E}{\\partial Y_j} \n",
    "\\end{Bmatrix}$$\n",
    "\n",
    "\n",
    "A partir de $\\frac{\\partial E}{\\partial Y}$, é possivel obter também, **a derivada do erro em relação aos parâmetros** $\\frac{\\partial E}{\\partial W}$ com base na regra da cadeia:\n",
    "\n",
    "$$ \\frac{\\partial E}{\\partial w} =  \\sum_{j=} \\frac{\\partial E}{\\partial y_j} \\frac{\\partial y_j}{\\partial w}$$\n",
    "\n",
    " >  !!! Como a saída de uma camada é a entrada da próxima, $\\frac{\\partial E}{\\partial X}$ de uma camada equivale a $\\frac{\\partial E}{\\partial Y}$ da camada anterior. $$ \\frac{\\partial E}{\\partial x_i} =  \\sum_{j=} \\frac{\\partial E}{\\partial y_j} \\frac{\\partial y_j}{\\partial x_i}$$ \n",
    "\n",
    "A matriz $\\frac{\\partial E}{\\partial W}$ deve ter o mesmo tamanho que o próprio $W: i \\times j$ onde $i$ é o número de neurônios de entrada e $j$ o número de neurônio de saída.\n",
    "\n",
    "\\begin{bmatrix}\n",
    "\\frac{\\partial E}{\\partial w_{11}} & \\cdots & \\frac{\\partial E}{\\partial w_{1j}} \\\\ \n",
    "\\vdots & \\ddots & \\vdots \\\\\n",
    "\\frac{\\partial E}{\\partial w_{i1}} & \\cdots & \\frac{\\partial E}{\\partial w_{ij}}\n",
    "\\end{bmatrix}\n",
    "\n",
    "Usando a regra da cadeia, podemos escrever:\n",
    "\n",
    "$$ \\frac{\\partial E}{\\partial w_{ij}} =  \\frac{\\partial E}{\\partial y_1} \\frac{\\partial y_1}{\\partial w_{ij}} + \\cdots + \\frac{\\partial E}{\\partial y_j} \\frac{\\partial y_j}{\\partial w_{ij}} = \\frac{\\partial E}{\\partial y_{j}} x_i$$"
   ]
  },
  {
   "cell_type": "markdown",
   "metadata": {},
   "source": []
  },
  {
   "cell_type": "code",
   "execution_count": null,
   "metadata": {},
   "outputs": [],
   "source": []
  }
 ],
 "metadata": {
  "kernelspec": {
   "display_name": "Python 3",
   "language": "python",
   "name": "python3"
  },
  "language_info": {
   "codemirror_mode": {
    "name": "ipython",
    "version": 3
   },
   "file_extension": ".py",
   "mimetype": "text/x-python",
   "name": "python",
   "nbconvert_exporter": "python",
   "pygments_lexer": "ipython3",
   "version": "3.10.6"
  },
  "orig_nbformat": 4
 },
 "nbformat": 4,
 "nbformat_minor": 2
}
