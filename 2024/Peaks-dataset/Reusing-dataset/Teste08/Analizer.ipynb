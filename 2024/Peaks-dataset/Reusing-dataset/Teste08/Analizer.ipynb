{
 "cells": [
  {
   "cell_type": "code",
   "execution_count": 1,
   "metadata": {},
   "outputs": [],
   "source": [
    "import pandas as pd\n",
    "import numpy as np\n",
    "\n",
    "def read_excel(file_name):\n",
    "    df = pd.read_excel(file_name)\n",
    "    return df\n",
    "\n",
    "def read_txt(file_name):\n",
    "    file = open(file_name)\n",
    "    lines = file.readlines()\n",
    "    return(lines[0])"
   ]
  },
  {
   "cell_type": "code",
   "execution_count": 2,
   "metadata": {},
   "outputs": [],
   "source": [
    "import os\n",
    "import glob\n",
    "\n",
    "def get_files(subfolder, extension):\n",
    "    dir = f\"{os.getcwd()}/content/{subfolder}/\"\n",
    "    tables = glob.glob(f\"{dir}*.{extension}\")\n",
    "    return tables"
   ]
  },
  {
   "cell_type": "code",
   "execution_count": 3,
   "metadata": {},
   "outputs": [],
   "source": [
    "class Analizer:\n",
    "    def __init__(self):\n",
    "        self.results = get_files(subfolder=\"results\", extension=\"xlsx\")\n",
    "        self.results_df = pd.DataFrame()\n",
    "    \n",
    "    def has_minimum_requirements(self, df, sort_by=\"r2\", boundary=0.75):\n",
    "        sorted_df = df.sort_values(by=sort_by, ascending=False)\n",
    "        top_r2 = sorted_df.head(1)[sort_by].values[0]\n",
    "        if top_r2 < boundary:\n",
    "            return False\n",
    "        return True\n",
    "    \n",
    "    def concatenate_df(self, df, architecture):\n",
    "        if self.has_minimum_requirements(df):\n",
    "            df['Architecture'] = architecture\n",
    "            df = df.rename(columns={'Unnamed: 0': 'model'})\n",
    "            self.results_df = pd.concat([self.results_df, df], ignore_index=True) \n",
    "\n",
    "    def create_results_df(self):\n",
    "        for file in self.results:\n",
    "            df = read_excel(file)\n",
    "            architecture = read_txt(file.replace(\".xlsx\", \".txt\"))\n",
    "            self.concatenate_df(df, architecture)\n",
    "        self.results_df = self.results_df.sort_values(by=\"r2\", ascending=False, ignore_index=True)\n",
    "\n",
    "    def discard_below_average(self, sort_by):\n",
    "        column_mean = self.results_df[sort_by].mean()      \n",
    "        self.results_df = self.results_df[self.results_df[sort_by] >= column_mean]\n",
    "    \n",
    "    def discard_high_standard_deviation(self):\n",
    "        r2_val, r2_test = self.results_df['r2_val'], self.results_df['r2_test']\n",
    "        std_devs = np.abs(r2_val - r2_test)\n",
    "        mean_std_dev = std_devs.mean()\n",
    "        self.results_df = self.results_df[std_devs < mean_std_dev]\n",
    "\n",
    "    def clean_folder(self, subfolder, extension, remove_last=True):\n",
    "        files = get_files(subfolder, extension)\n",
    "        models = self.results_df[\"model\"]\n",
    "        if (remove_last):\n",
    "            models = models.apply(lambda x: '_'.join(x.rsplit('_', 1)[:-1]))\n",
    "        for file in files:\n",
    "            file_name = os.path.basename(file).split('.')[0]\n",
    "            file_parts = file_name.split('_')            \n",
    "            dataset_model = f\"model_{file_parts[1]}_{file_parts[2]}\" \n",
    "            if (remove_last == False):\n",
    "                dataset_model = (f\"{dataset_model}_{file_parts[3]}\")\n",
    "            if dataset_model not in models.values:\n",
    "                os.remove(file)   \n",
    "        \n",
    "    def Analize(self):\n",
    "        self.create_results_df()\n",
    "        self.discard_below_average(sort_by=\"r2\")\n",
    "        self.discard_below_average(sort_by=\"r2_vt\")\n",
    "        self.discard_high_standard_deviation()\n",
    "        self.results_df.to_excel(f\"better_results.xlsx\", index=True)\n",
    "        display(self.results_df)\n"
   ]
  },
  {
   "cell_type": "code",
   "execution_count": 4,
   "metadata": {},
   "outputs": [
    {
     "ename": "FileNotFoundError",
     "evalue": "[Errno 2] No such file or directory: '/workspaces/Fundamentos-de-RNAs/2024/Peaks-dataset/Reusing-dataset/Teste08/content/results/metrics_4.txt'",
     "output_type": "error",
     "traceback": [
      "\u001b[0;31m---------------------------------------------------------------------------\u001b[0m",
      "\u001b[0;31mFileNotFoundError\u001b[0m                         Traceback (most recent call last)",
      "Cell \u001b[0;32mIn[4], line 2\u001b[0m\n\u001b[1;32m      1\u001b[0m analize \u001b[38;5;241m=\u001b[39m Analizer()\n\u001b[0;32m----> 2\u001b[0m \u001b[43manalize\u001b[49m\u001b[38;5;241;43m.\u001b[39;49m\u001b[43mAnalize\u001b[49m\u001b[43m(\u001b[49m\u001b[43m)\u001b[49m\n\u001b[1;32m      3\u001b[0m \u001b[38;5;66;03m# analize.clean_folder(subfolder=\"dataset\", extension=\"pkl\")\u001b[39;00m\n\u001b[1;32m      4\u001b[0m \u001b[38;5;66;03m# analize.clean_folder(subfolder=\"results\", extension=\"xlsx\")\u001b[39;00m\n\u001b[1;32m      5\u001b[0m \u001b[38;5;66;03m# analize.clean_folder(subfolder=\"results\", extension=\"txt\")\u001b[39;00m\n\u001b[1;32m      6\u001b[0m analize\u001b[38;5;241m.\u001b[39mclean_folder(subfolder\u001b[38;5;241m=\u001b[39m\u001b[38;5;124m\"\u001b[39m\u001b[38;5;124mresults\u001b[39m\u001b[38;5;124m\"\u001b[39m, extension\u001b[38;5;241m=\u001b[39m\u001b[38;5;124m\"\u001b[39m\u001b[38;5;124mpng\u001b[39m\u001b[38;5;124m\"\u001b[39m)\n",
      "Cell \u001b[0;32mIn[3], line 52\u001b[0m, in \u001b[0;36mAnalizer.Analize\u001b[0;34m(self)\u001b[0m\n\u001b[1;32m     51\u001b[0m \u001b[38;5;28;01mdef\u001b[39;00m \u001b[38;5;21mAnalize\u001b[39m(\u001b[38;5;28mself\u001b[39m):\n\u001b[0;32m---> 52\u001b[0m     \u001b[38;5;28;43mself\u001b[39;49m\u001b[38;5;241;43m.\u001b[39;49m\u001b[43mcreate_results_df\u001b[49m\u001b[43m(\u001b[49m\u001b[43m)\u001b[49m\n\u001b[1;32m     53\u001b[0m     \u001b[38;5;28mself\u001b[39m\u001b[38;5;241m.\u001b[39mdiscard_below_average(sort_by\u001b[38;5;241m=\u001b[39m\u001b[38;5;124m\"\u001b[39m\u001b[38;5;124mr2\u001b[39m\u001b[38;5;124m\"\u001b[39m)\n\u001b[1;32m     54\u001b[0m     \u001b[38;5;28mself\u001b[39m\u001b[38;5;241m.\u001b[39mdiscard_below_average(sort_by\u001b[38;5;241m=\u001b[39m\u001b[38;5;124m\"\u001b[39m\u001b[38;5;124mr2_vt\u001b[39m\u001b[38;5;124m\"\u001b[39m)\n",
      "Cell \u001b[0;32mIn[3], line 22\u001b[0m, in \u001b[0;36mAnalizer.create_results_df\u001b[0;34m(self)\u001b[0m\n\u001b[1;32m     20\u001b[0m \u001b[38;5;28;01mfor\u001b[39;00m file \u001b[38;5;129;01min\u001b[39;00m \u001b[38;5;28mself\u001b[39m\u001b[38;5;241m.\u001b[39mresults:\n\u001b[1;32m     21\u001b[0m     df \u001b[38;5;241m=\u001b[39m read_excel(file)\n\u001b[0;32m---> 22\u001b[0m     architecture \u001b[38;5;241m=\u001b[39m \u001b[43mread_txt\u001b[49m\u001b[43m(\u001b[49m\u001b[43mfile\u001b[49m\u001b[38;5;241;43m.\u001b[39;49m\u001b[43mreplace\u001b[49m\u001b[43m(\u001b[49m\u001b[38;5;124;43m\"\u001b[39;49m\u001b[38;5;124;43m.xlsx\u001b[39;49m\u001b[38;5;124;43m\"\u001b[39;49m\u001b[43m,\u001b[49m\u001b[43m \u001b[49m\u001b[38;5;124;43m\"\u001b[39;49m\u001b[38;5;124;43m.txt\u001b[39;49m\u001b[38;5;124;43m\"\u001b[39;49m\u001b[43m)\u001b[49m\u001b[43m)\u001b[49m\n\u001b[1;32m     23\u001b[0m     \u001b[38;5;28mself\u001b[39m\u001b[38;5;241m.\u001b[39mconcatenate_df(df, architecture)\n\u001b[1;32m     24\u001b[0m \u001b[38;5;28mself\u001b[39m\u001b[38;5;241m.\u001b[39mresults_df \u001b[38;5;241m=\u001b[39m \u001b[38;5;28mself\u001b[39m\u001b[38;5;241m.\u001b[39mresults_df\u001b[38;5;241m.\u001b[39msort_values(by\u001b[38;5;241m=\u001b[39m\u001b[38;5;124m\"\u001b[39m\u001b[38;5;124mr2\u001b[39m\u001b[38;5;124m\"\u001b[39m, ascending\u001b[38;5;241m=\u001b[39m\u001b[38;5;28;01mFalse\u001b[39;00m, ignore_index\u001b[38;5;241m=\u001b[39m\u001b[38;5;28;01mTrue\u001b[39;00m)\n",
      "Cell \u001b[0;32mIn[1], line 9\u001b[0m, in \u001b[0;36mread_txt\u001b[0;34m(file_name)\u001b[0m\n\u001b[1;32m      8\u001b[0m \u001b[38;5;28;01mdef\u001b[39;00m \u001b[38;5;21mread_txt\u001b[39m(file_name):\n\u001b[0;32m----> 9\u001b[0m     file \u001b[38;5;241m=\u001b[39m \u001b[38;5;28;43mopen\u001b[39;49m\u001b[43m(\u001b[49m\u001b[43mfile_name\u001b[49m\u001b[43m)\u001b[49m\n\u001b[1;32m     10\u001b[0m     lines \u001b[38;5;241m=\u001b[39m file\u001b[38;5;241m.\u001b[39mreadlines()\n\u001b[1;32m     11\u001b[0m     \u001b[38;5;28;01mreturn\u001b[39;00m(lines[\u001b[38;5;241m0\u001b[39m])\n",
      "File \u001b[0;32m~/.local/lib/python3.10/site-packages/IPython/core/interactiveshell.py:310\u001b[0m, in \u001b[0;36m_modified_open\u001b[0;34m(file, *args, **kwargs)\u001b[0m\n\u001b[1;32m    303\u001b[0m \u001b[38;5;28;01mif\u001b[39;00m file \u001b[38;5;129;01min\u001b[39;00m {\u001b[38;5;241m0\u001b[39m, \u001b[38;5;241m1\u001b[39m, \u001b[38;5;241m2\u001b[39m}:\n\u001b[1;32m    304\u001b[0m     \u001b[38;5;28;01mraise\u001b[39;00m \u001b[38;5;167;01mValueError\u001b[39;00m(\n\u001b[1;32m    305\u001b[0m         \u001b[38;5;124mf\u001b[39m\u001b[38;5;124m\"\u001b[39m\u001b[38;5;124mIPython won\u001b[39m\u001b[38;5;124m'\u001b[39m\u001b[38;5;124mt let you open fd=\u001b[39m\u001b[38;5;132;01m{\u001b[39;00mfile\u001b[38;5;132;01m}\u001b[39;00m\u001b[38;5;124m by default \u001b[39m\u001b[38;5;124m\"\u001b[39m\n\u001b[1;32m    306\u001b[0m         \u001b[38;5;124m\"\u001b[39m\u001b[38;5;124mas it is likely to crash IPython. If you know what you are doing, \u001b[39m\u001b[38;5;124m\"\u001b[39m\n\u001b[1;32m    307\u001b[0m         \u001b[38;5;124m\"\u001b[39m\u001b[38;5;124myou can use builtins\u001b[39m\u001b[38;5;124m'\u001b[39m\u001b[38;5;124m open.\u001b[39m\u001b[38;5;124m\"\u001b[39m\n\u001b[1;32m    308\u001b[0m     )\n\u001b[0;32m--> 310\u001b[0m \u001b[38;5;28;01mreturn\u001b[39;00m \u001b[43mio_open\u001b[49m\u001b[43m(\u001b[49m\u001b[43mfile\u001b[49m\u001b[43m,\u001b[49m\u001b[43m \u001b[49m\u001b[38;5;241;43m*\u001b[39;49m\u001b[43margs\u001b[49m\u001b[43m,\u001b[49m\u001b[43m \u001b[49m\u001b[38;5;241;43m*\u001b[39;49m\u001b[38;5;241;43m*\u001b[39;49m\u001b[43mkwargs\u001b[49m\u001b[43m)\u001b[49m\n",
      "\u001b[0;31mFileNotFoundError\u001b[0m: [Errno 2] No such file or directory: '/workspaces/Fundamentos-de-RNAs/2024/Peaks-dataset/Reusing-dataset/Teste08/content/results/metrics_4.txt'"
     ]
    }
   ],
   "source": [
    "analize = Analizer()\n",
    "analize.Analize()\n",
    "# analize.clean_folder(subfolder=\"dataset\", extension=\"pkl\")\n",
    "# analize.clean_folder(subfolder=\"results\", extension=\"xlsx\")\n",
    "# analize.clean_folder(subfolder=\"results\", extension=\"txt\")\n",
    "analize.clean_folder(subfolder=\"results\", extension=\"png\")\n",
    "# analize.clean_folder(subfolder=\"models\", extension=\"keras\", remove_last=False)"
   ]
  }
 ],
 "metadata": {
  "kernelspec": {
   "display_name": "Python 3",
   "language": "python",
   "name": "python3"
  },
  "language_info": {
   "codemirror_mode": {
    "name": "ipython",
    "version": 3
   },
   "file_extension": ".py",
   "mimetype": "text/x-python",
   "name": "python",
   "nbconvert_exporter": "python",
   "pygments_lexer": "ipython3",
   "version": "3.10.13"
  }
 },
 "nbformat": 4,
 "nbformat_minor": 2
}
