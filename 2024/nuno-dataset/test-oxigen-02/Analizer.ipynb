{
 "cells": [
  {
   "cell_type": "code",
   "execution_count": null,
   "metadata": {},
   "outputs": [],
   "source": [
    "import pandas as pd\n",
    "import numpy as np\n",
    "\n",
    "def read_excel(file_name):\n",
    "    df = pd.read_excel(file_name)\n",
    "    return df\n",
    "\n",
    "def read_txt(file_name):\n",
    "    file = open(file_name)\n",
    "    lines = file.readlines()\n",
    "    return(lines[0])"
   ]
  },
  {
   "cell_type": "code",
   "execution_count": null,
   "metadata": {},
   "outputs": [],
   "source": [
    "import os\n",
    "import glob\n",
    "\n",
    "def get_files(subfolder, extension):\n",
    "    dir = f\"{os.getcwd()}/content/{subfolder}/\"\n",
    "    tables = glob.glob(f\"{dir}*.{extension}\")\n",
    "    return tables"
   ]
  },
  {
   "cell_type": "code",
   "execution_count": null,
   "metadata": {},
   "outputs": [],
   "source": [
    "class Analizer:\n",
    "    def __init__(self):\n",
    "        self.results = get_files(subfolder=\"results\", extension=\"xlsx\")\n",
    "        self.results_df = pd.DataFrame()\n",
    "    \n",
    "    def has_minimum_requirements(self, df, sort_by=\"r2\", boundary=0.75):\n",
    "        sorted_df = df.sort_values(by=sort_by, ascending=False)\n",
    "        top_r2 = sorted_df.head(1)[sort_by].values[0]\n",
    "        if top_r2 < boundary:\n",
    "            return False\n",
    "        return True\n",
    "    \n",
    "    def concatenate_df(self, df, architecture):\n",
    "        if self.has_minimum_requirements(df):\n",
    "            df['Architecture'] = architecture\n",
    "            df = df.rename(columns={'Unnamed: 0': 'model'})\n",
    "            self.results_df = pd.concat([self.results_df, df], ignore_index=True) \n",
    "\n",
    "    def create_results_df(self):\n",
    "        for file in self.results:\n",
    "            df = read_excel(file)\n",
    "            architecture = read_txt(file.replace(\".xlsx\", \".txt\"))\n",
    "            self.concatenate_df(df, architecture)\n",
    "        self.results_df = self.results_df.sort_values(by=\"r2\", ascending=False, ignore_index=True)\n",
    "\n",
    "    def discard_below_average(self, sort_by):\n",
    "        column_mean = self.results_df[sort_by].mean()      \n",
    "        self.results_df = self.results_df[self.results_df[sort_by] >= column_mean]\n",
    "    \n",
    "    def discard_high_standard_deviation(self):\n",
    "        r2_val, r2_test = self.results_df['r2_val'], self.results_df['r2_test']\n",
    "        std_devs = np.abs(r2_val - r2_test)\n",
    "        mean_std_dev = std_devs.mean()\n",
    "        self.results_df = self.results_df[std_devs < mean_std_dev]\n",
    "\n",
    "    def clean_folder(self, subfolder, extension, remove_last=True):\n",
    "        files = get_files(subfolder, extension)\n",
    "        models = self.results_df[\"model\"]\n",
    "        if (remove_last):\n",
    "            models = models.apply(lambda x: '_'.join(x.rsplit('_', 1)[:-1]))\n",
    "        for file in files:\n",
    "            file_name = os.path.basename(file).split('.')[0]\n",
    "            file_parts = file_name.split('_')            \n",
    "            dataset_model = f\"model_{file_parts[1]}_{file_parts[2]}\" \n",
    "            if (remove_last == False):\n",
    "                dataset_model = (f\"{dataset_model}_{file_parts[3]}\")\n",
    "            if dataset_model not in models.values:\n",
    "                os.remove(file)   \n",
    "        \n",
    "    def Analize(self):\n",
    "        self.create_results_df()\n",
    "        self.discard_below_average(sort_by=\"r2\")\n",
    "        self.discard_below_average(sort_by=\"r2_vt\")\n",
    "        self.discard_high_standard_deviation()\n",
    "        self.results_df.to_excel(f\"better_results.xlsx\", index=True)\n",
    "        display(self.results_df)\n"
   ]
  },
  {
   "cell_type": "code",
   "execution_count": null,
   "metadata": {},
   "outputs": [],
   "source": [
    "analize = Analizer()\n",
    "analize.Analize()\n",
    "analize.clean_folder(subfolder=\"dataset\", extension=\"pkl\")\n",
    "analize.clean_folder(subfolder=\"results\", extension=\"xlsx\")\n",
    "analize.clean_folder(subfolder=\"results\", extension=\"txt\")\n",
    "analize.clean_folder(subfolder=\"models\", extension=\"keras\", remove_last=False)\n",
    "\n"
   ]
  }
 ],
 "metadata": {
  "kernelspec": {
   "display_name": "Python 3",
   "language": "python",
   "name": "python3"
  },
  "language_info": {
   "codemirror_mode": {
    "name": "ipython",
    "version": 3
   },
   "file_extension": ".py",
   "mimetype": "text/x-python",
   "name": "python",
   "nbconvert_exporter": "python",
   "pygments_lexer": "ipython3",
   "version": "3.10.13"
  }
 },
 "nbformat": 4,
 "nbformat_minor": 2
}
