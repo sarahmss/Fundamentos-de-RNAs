{
 "cells": [
  {
   "cell_type": "code",
   "execution_count": 8,
   "metadata": {},
   "outputs": [
    {
     "name": "stdout",
     "output_type": "stream",
     "text": [
      "Gradientes:\n",
      "1 - tanh(p0 + p1*x1 + p2*x2)**2\n",
      "x1*(1 - tanh(p0 + p1*x1 + p2*x2)**2)\n",
      "x2*(1 - tanh(p0 + p1*x1 + p2*x2)**2)\n",
      "Hessiana:\n",
      "-(2 - 2*tanh(p0 + p1*x1 + p2*x2)**2)*tanh(p0 + p1*x1 + p2*x2), -2*x1*(1 - tanh(p0 + p1*x1 + p2*x2)**2)*tanh(p0 + p1*x1 + p2*x2), -2*x2*(1 - tanh(p0 + p1*x1 + p2*x2)**2)*tanh(p0 + p1*x1 + p2*x2), \n",
      "-x1*(2 - 2*tanh(p0 + p1*x1 + p2*x2)**2)*tanh(p0 + p1*x1 + p2*x2), -2*x1**2*(1 - tanh(p0 + p1*x1 + p2*x2)**2)*tanh(p0 + p1*x1 + p2*x2), -2*x1*x2*(1 - tanh(p0 + p1*x1 + p2*x2)**2)*tanh(p0 + p1*x1 + p2*x2), \n",
      "-x2*(2 - 2*tanh(p0 + p1*x1 + p2*x2)**2)*tanh(p0 + p1*x1 + p2*x2), -2*x1*x2*(1 - tanh(p0 + p1*x1 + p2*x2)**2)*tanh(p0 + p1*x1 + p2*x2), -2*x2**2*(1 - tanh(p0 + p1*x1 + p2*x2)**2)*tanh(p0 + p1*x1 + p2*x2), \n"
     ]
    }
   ],
   "source": [
    "import sympy as sp\n",
    "import numpy as np\n",
    "\n",
    "def v(p):\n",
    "    x1, x2 = sp.symbols('x1 x2')\n",
    "    return (p[0] + p[1] * x1 + p[2] * x2)\n",
    "\n",
    "def funcao(p):\n",
    "    return sp.tanh(v(p))\n",
    "\n",
    "p0, p1, p2 = sp.symbols('p0 p1 p2')\n",
    "p = np.array([p0, p1, p2])\n",
    "\n",
    "print(\"Gradientes:\")\n",
    "grad = []\n",
    "for j in range(len(p)):\n",
    "    diff = sp.diff(funcao(p), p[j])\n",
    "    grad.append(diff)\n",
    "    print(diff)\n",
    "\n",
    "print(\"Hessiana:\")\n",
    "for g in range(len(p)):\n",
    "    for j in range(len(p)):\n",
    "        print(sp.diff(grad[g], p[j]), end=', ')\n",
    "    print()\n"
   ]
  }
 ],
 "metadata": {
  "kernelspec": {
   "display_name": "Python 3",
   "language": "python",
   "name": "python3"
  },
  "language_info": {
   "codemirror_mode": {
    "name": "ipython",
    "version": 3
   },
   "file_extension": ".py",
   "mimetype": "text/x-python",
   "name": "python",
   "nbconvert_exporter": "python",
   "pygments_lexer": "ipython3",
   "version": "3.10.6"
  },
  "orig_nbformat": 4
 },
 "nbformat": 4,
 "nbformat_minor": 2
}
